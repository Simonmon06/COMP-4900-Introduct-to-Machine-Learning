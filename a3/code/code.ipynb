{
  "nbformat": 4,
  "nbformat_minor": 0,
  "metadata": {
    "colab": {
      "name": "code.ipynb",
      "provenance": [],
      "collapsed_sections": [],
      "machine_shape": "hm"
    },
    "kernelspec": {
      "name": "python3",
      "display_name": "Python 3"
    },
    "accelerator": "GPU"
  },
  "cells": [
    {
      "cell_type": "code",
      "metadata": {
        "id": "jlMFlfez0glf",
        "colab": {
          "base_uri": "https://localhost:8080/",
          "height": 0
        },
        "outputId": "72558d73-ef87-4377-f5df-bae321279791"
      },
      "source": [
        "from google.colab import drive\n",
        "drive.mount('/content/gdrive' )"
      ],
      "execution_count": 2,
      "outputs": [
        {
          "output_type": "stream",
          "text": [
            "Mounted at /content/gdrive\n"
          ],
          "name": "stdout"
        }
      ]
    },
    {
      "cell_type": "code",
      "metadata": {
        "id": "7M-qypfw0jYN",
        "colab": {
          "base_uri": "https://localhost:8080/",
          "height": 0
        },
        "outputId": "5675bd43-2fba-46bb-9845-14b46cffdd0c"
      },
      "source": [
        "%cd '/content/gdrive/My Drive/COMP4900/a3/'\n",
        "!ls './data/'"
      ],
      "execution_count": 3,
      "outputs": [
        {
          "output_type": "stream",
          "text": [
            "/content/gdrive/My Drive/COMP4900/a3\n",
            "Test.pkl  TrainLabels.csv  Train.pkl\n"
          ],
          "name": "stdout"
        }
      ]
    },
    {
      "cell_type": "code",
      "metadata": {
        "id": "HrnYDmSa0WBo"
      },
      "source": [
        "\n",
        "# basic\n",
        "import io\n",
        "import cv2\n",
        "import numpy as np\n",
        "import matplotlib.pyplot as plt\n",
        "import pandas as pd\n",
        "\n",
        "import keras\n",
        "from keras.models import Sequential\n",
        "from keras.layers import Dense, Dropout, Flatten, Conv2D, MaxPooling2D, LeakyReLU, ZeroPadding2D,Convolution2D\n",
        "from keras.utils import plot_model, to_categorical\n",
        "from keras.callbacks import History\n",
        "from keras.optimizers import Nadam, Adam, SGD\n",
        "import matplotlib.pyplot as plt\n",
        "from keras.utils import np_utils\n",
        "from keras import backend as K\n",
        "from keras import regularizers\n",
        "\n",
        "from sklearn.preprocessing import LabelEncoder\n",
        "from sklearn.model_selection import train_test_split\n",
        "from sklearn.metrics import confusion_matrix\n",
        "from sklearn.preprocessing import OneHotEncoder\n",
        "\n",
        "\n",
        "\n"
      ],
      "execution_count": 4,
      "outputs": []
    },
    {
      "cell_type": "code",
      "metadata": {
        "id": "lGQto5YbIfkL",
        "colab": {
          "base_uri": "https://localhost:8080/",
          "height": 0
        },
        "outputId": "20f8b25f-24c5-43b3-9e32-fd7b88096496"
      },
      "source": [
        "train_labels = pd.read_csv('./data/TrainLabels.csv')\n",
        "train_images = pd.read_pickle('./data/Train.pkl')\n",
        "test_images = pd.read_pickle('./data/Test.pkl')\n",
        "\n",
        "# train_images = np.where(train_images<250, 0, train_images)\n",
        "# test_images = np.where(test_images<250, 0, test_images)\n",
        "\n",
        "X_train = np.array(train_images)\n",
        "X_train = np.array(X_train).reshape(-1,64,128,1)\n",
        "onehot_encoder = OneHotEncoder(sparse=False)\n",
        "y_train = onehot_encoder.fit_transform(np.reshape(np.array(train_labels['class']), (-1,1)))\n",
        "\n",
        "X_test = np.array(test_images)\n",
        "X_test = np.array(X_test).reshape(-1,64,128,1)\n",
        "\n",
        "\n",
        "print(\"X_train.shape:\",X_train.shape)\n",
        "print(\"X_test.shape:\",X_test.shape)\n",
        "print(\"y_train.shape:\",y_train.shape)\n",
        "\n",
        "\n"
      ],
      "execution_count": 5,
      "outputs": [
        {
          "output_type": "stream",
          "text": [
            "X_train.shape: (60000, 64, 128, 1)\n",
            "X_test.shape: (10000, 64, 128, 1)\n",
            "y_train.shape: (60000, 9)\n"
          ],
          "name": "stdout"
        }
      ]
    },
    {
      "cell_type": "markdown",
      "metadata": {
        "id": "306fmDk0P2ix"
      },
      "source": [
        "#base model 8 layer (maxPolling layers aren't counted here)\n"
      ]
    },
    {
      "cell_type": "code",
      "metadata": {
        "colab": {
          "base_uri": "https://localhost:8080/",
          "height": 0
        },
        "id": "hAxvSF7OiJW-",
        "outputId": "db4800e3-bb51-4491-a122-576aedd488e2"
      },
      "source": [
        "baseModel = Sequential([\n",
        "                        ZeroPadding2D((1,1),input_shape=(64,128,1)),\n",
        "                        Conv2D(32, kernel_size=(3, 3), activation='relu'),\n",
        "                        ZeroPadding2D((1,1)),\n",
        "                        Conv2D(32, kernel_size=(3, 3), activation='relu'),\n",
        "                        MaxPooling2D(pool_size=(2, 2)),\n",
        "\n",
        "                        ZeroPadding2D((1,1)),\n",
        "                        Conv2D(64, kernel_size=(3, 3), activation='relu'),\n",
        "                        ZeroPadding2D((1,1)),\n",
        "                        Conv2D(64, kernel_size=(3, 3), activation='relu'),\n",
        "                        MaxPooling2D(pool_size=(2, 2)),\n",
        "                        Dropout(0.5),\n",
        "\n",
        "                        ZeroPadding2D((1,1)),\n",
        "                        Conv2D(128, kernel_size=(3, 3), activation='relu'),\n",
        "                        ZeroPadding2D((1,1)),\n",
        "                        Conv2D(128, kernel_size=(3, 3), activation='relu'),\n",
        "                        MaxPooling2D(pool_size=(2, 2)),\n",
        "                        Dropout(0.5),\n",
        "\n",
        "                        Flatten(),\n",
        "                        Dense(512, activation='relu'),\n",
        "                        Dropout(0.5),\n",
        "                        Dense(9, activation='softmax'),\n",
        "\n",
        "])\n",
        "\n",
        "baseModel.compile(loss='categorical_crossentropy', optimizer='adam', metrics=['accuracy'])\n",
        "\n",
        "baseModel.summary()"
      ],
      "execution_count": 6,
      "outputs": [
        {
          "output_type": "stream",
          "text": [
            "Model: \"sequential\"\n",
            "_________________________________________________________________\n",
            "Layer (type)                 Output Shape              Param #   \n",
            "=================================================================\n",
            "zero_padding2d (ZeroPadding2 (None, 66, 130, 1)        0         \n",
            "_________________________________________________________________\n",
            "conv2d (Conv2D)              (None, 64, 128, 32)       320       \n",
            "_________________________________________________________________\n",
            "zero_padding2d_1 (ZeroPaddin (None, 66, 130, 32)       0         \n",
            "_________________________________________________________________\n",
            "conv2d_1 (Conv2D)            (None, 64, 128, 32)       9248      \n",
            "_________________________________________________________________\n",
            "max_pooling2d (MaxPooling2D) (None, 32, 64, 32)        0         \n",
            "_________________________________________________________________\n",
            "zero_padding2d_2 (ZeroPaddin (None, 34, 66, 32)        0         \n",
            "_________________________________________________________________\n",
            "conv2d_2 (Conv2D)            (None, 32, 64, 64)        18496     \n",
            "_________________________________________________________________\n",
            "zero_padding2d_3 (ZeroPaddin (None, 34, 66, 64)        0         \n",
            "_________________________________________________________________\n",
            "conv2d_3 (Conv2D)            (None, 32, 64, 64)        36928     \n",
            "_________________________________________________________________\n",
            "max_pooling2d_1 (MaxPooling2 (None, 16, 32, 64)        0         \n",
            "_________________________________________________________________\n",
            "dropout (Dropout)            (None, 16, 32, 64)        0         \n",
            "_________________________________________________________________\n",
            "zero_padding2d_4 (ZeroPaddin (None, 18, 34, 64)        0         \n",
            "_________________________________________________________________\n",
            "conv2d_4 (Conv2D)            (None, 16, 32, 128)       73856     \n",
            "_________________________________________________________________\n",
            "zero_padding2d_5 (ZeroPaddin (None, 18, 34, 128)       0         \n",
            "_________________________________________________________________\n",
            "conv2d_5 (Conv2D)            (None, 16, 32, 128)       147584    \n",
            "_________________________________________________________________\n",
            "max_pooling2d_2 (MaxPooling2 (None, 8, 16, 128)        0         \n",
            "_________________________________________________________________\n",
            "dropout_1 (Dropout)          (None, 8, 16, 128)        0         \n",
            "_________________________________________________________________\n",
            "flatten (Flatten)            (None, 16384)             0         \n",
            "_________________________________________________________________\n",
            "dense (Dense)                (None, 512)               8389120   \n",
            "_________________________________________________________________\n",
            "dropout_2 (Dropout)          (None, 512)               0         \n",
            "_________________________________________________________________\n",
            "dense_1 (Dense)              (None, 9)                 4617      \n",
            "=================================================================\n",
            "Total params: 8,680,169\n",
            "Trainable params: 8,680,169\n",
            "Non-trainable params: 0\n",
            "_________________________________________________________________\n"
          ],
          "name": "stdout"
        }
      ]
    },
    {
      "cell_type": "code",
      "metadata": {
        "colab": {
          "base_uri": "https://localhost:8080/",
          "height": 0
        },
        "id": "QC1yU_ookNwH",
        "outputId": "f0940d2e-9e45-445b-d2f9-b9b6cee47985"
      },
      "source": [
        "history = baseModel.fit(X_train, y_train, batch_size=100, epochs=20, validation_split = 0.33)\n",
        "\n",
        "print('Finished Training')\n",
        "\n",
        "predictions = np.argmax(baseModel.predict(X_test), axis=1)"
      ],
      "execution_count": 6,
      "outputs": [
        {
          "output_type": "stream",
          "text": [
            "Epoch 1/20\n",
            "402/402 [==============================] - 10s 26ms/step - loss: 2.2938 - accuracy: 0.1140 - val_loss: 2.1906 - val_accuracy: 0.1408\n",
            "Epoch 2/20\n",
            "402/402 [==============================] - 10s 25ms/step - loss: 2.0906 - accuracy: 0.1771 - val_loss: 1.8296 - val_accuracy: 0.2706\n",
            "Epoch 3/20\n",
            "402/402 [==============================] - 10s 25ms/step - loss: 1.7752 - accuracy: 0.2746 - val_loss: 1.5987 - val_accuracy: 0.3288\n",
            "Epoch 4/20\n",
            "402/402 [==============================] - 10s 25ms/step - loss: 1.5694 - accuracy: 0.3377 - val_loss: 1.4627 - val_accuracy: 0.3742\n",
            "Epoch 5/20\n",
            "402/402 [==============================] - 10s 25ms/step - loss: 1.4611 - accuracy: 0.3788 - val_loss: 1.3744 - val_accuracy: 0.4390\n",
            "Epoch 6/20\n",
            "402/402 [==============================] - 10s 25ms/step - loss: 1.3815 - accuracy: 0.4178 - val_loss: 1.2438 - val_accuracy: 0.4979\n",
            "Epoch 7/20\n",
            "402/402 [==============================] - 10s 25ms/step - loss: 1.3174 - accuracy: 0.4472 - val_loss: 1.2039 - val_accuracy: 0.5073\n",
            "Epoch 8/20\n",
            "402/402 [==============================] - 10s 25ms/step - loss: 1.2603 - accuracy: 0.4751 - val_loss: 1.1652 - val_accuracy: 0.5554\n",
            "Epoch 9/20\n",
            "402/402 [==============================] - 10s 25ms/step - loss: 1.2010 - accuracy: 0.5076 - val_loss: 1.1043 - val_accuracy: 0.5773\n",
            "Epoch 10/20\n",
            "402/402 [==============================] - 10s 25ms/step - loss: 1.1479 - accuracy: 0.5408 - val_loss: 1.0289 - val_accuracy: 0.6338\n",
            "Epoch 11/20\n",
            "402/402 [==============================] - 10s 25ms/step - loss: 1.0660 - accuracy: 0.5924 - val_loss: 0.9067 - val_accuracy: 0.6957\n",
            "Epoch 12/20\n",
            "402/402 [==============================] - 10s 25ms/step - loss: 0.9827 - accuracy: 0.6417 - val_loss: 0.8109 - val_accuracy: 0.7456\n",
            "Epoch 13/20\n",
            "402/402 [==============================] - 10s 25ms/step - loss: 0.9004 - accuracy: 0.6779 - val_loss: 0.7579 - val_accuracy: 0.7664\n",
            "Epoch 14/20\n",
            "402/402 [==============================] - 10s 25ms/step - loss: 0.8083 - accuracy: 0.7229 - val_loss: 0.6459 - val_accuracy: 0.8026\n",
            "Epoch 15/20\n",
            "402/402 [==============================] - 10s 25ms/step - loss: 0.7612 - accuracy: 0.7446 - val_loss: 0.6021 - val_accuracy: 0.8209\n",
            "Epoch 16/20\n",
            "402/402 [==============================] - 10s 25ms/step - loss: 0.7064 - accuracy: 0.7666 - val_loss: 0.5808 - val_accuracy: 0.8232\n",
            "Epoch 17/20\n",
            "402/402 [==============================] - 10s 25ms/step - loss: 0.6681 - accuracy: 0.7805 - val_loss: 0.5512 - val_accuracy: 0.8349\n",
            "Epoch 18/20\n",
            "402/402 [==============================] - 10s 25ms/step - loss: 0.6333 - accuracy: 0.7914 - val_loss: 0.5297 - val_accuracy: 0.8407\n",
            "Epoch 19/20\n",
            "402/402 [==============================] - 10s 25ms/step - loss: 0.6144 - accuracy: 0.8002 - val_loss: 0.5322 - val_accuracy: 0.8420\n",
            "Epoch 20/20\n",
            "402/402 [==============================] - 10s 25ms/step - loss: 0.5879 - accuracy: 0.8091 - val_loss: 0.5255 - val_accuracy: 0.8417\n",
            "Finished Training\n"
          ],
          "name": "stdout"
        }
      ]
    },
    {
      "cell_type": "markdown",
      "metadata": {
        "id": "-5GbobllPxpQ"
      },
      "source": [
        "# 10 Layers & dropreate =0.5 "
      ]
    },
    {
      "cell_type": "code",
      "metadata": {
        "colab": {
          "base_uri": "https://localhost:8080/",
          "height": 0
        },
        "id": "NvpFoQXAl50G",
        "outputId": "fe060249-d8bd-4a92-d8d6-f064aab88968"
      },
      "source": [
        "model2 = Sequential([\n",
        "                        ZeroPadding2D((1,1),input_shape=(64,128,1)),\n",
        "                        Conv2D(32, kernel_size=(3, 3), activation='relu'),\n",
        "                        ZeroPadding2D((1,1)),\n",
        "                        Conv2D(32, kernel_size=(3, 3), activation='relu'),\n",
        "                        MaxPooling2D(pool_size=(2, 2)),\n",
        "\n",
        "                        ZeroPadding2D((1,1)),\n",
        "                        Conv2D(64, kernel_size=(3, 3), activation='relu'),\n",
        "                        ZeroPadding2D((1,1)),\n",
        "                        Conv2D(64, kernel_size=(3, 3), activation='relu'),\n",
        "                        MaxPooling2D(pool_size=(2, 2)),\n",
        "                        Dropout(0.5),\n",
        "\n",
        "                        ZeroPadding2D((1,1)),\n",
        "                        Conv2D(128, kernel_size=(3, 3), activation='relu'),\n",
        "                        ZeroPadding2D((1,1)),\n",
        "                        Conv2D(128, kernel_size=(3, 3), activation='relu'),\n",
        "                        MaxPooling2D(pool_size=(2, 2)),\n",
        "                        Dropout(0.5),\n",
        "                     \n",
        "                        ZeroPadding2D((1,1)),\n",
        "                        Conv2D(256, kernel_size=(3, 3), activation='relu'),\n",
        "                        ZeroPadding2D((1,1)),\n",
        "                        Conv2D(256, kernel_size=(3, 3), activation='relu'),\n",
        "                        MaxPooling2D(pool_size=(2, 2)),\n",
        "                        Dropout(0.5),\n",
        "\n",
        "                        Flatten(),\n",
        "                        Dense(512, activation='relu'),\n",
        "                        Dropout(0.5),\n",
        "                        Dense(9, activation='softmax'),\n",
        "\n",
        "])\n",
        "\n",
        "model2.compile(loss='categorical_crossentropy', optimizer='adam', metrics=['accuracy'])\n",
        "\n",
        "model2.summary()"
      ],
      "execution_count": 7,
      "outputs": [
        {
          "output_type": "stream",
          "text": [
            "Model: \"sequential_1\"\n",
            "_________________________________________________________________\n",
            "Layer (type)                 Output Shape              Param #   \n",
            "=================================================================\n",
            "zero_padding2d_6 (ZeroPaddin (None, 66, 130, 1)        0         \n",
            "_________________________________________________________________\n",
            "conv2d_6 (Conv2D)            (None, 64, 128, 32)       320       \n",
            "_________________________________________________________________\n",
            "zero_padding2d_7 (ZeroPaddin (None, 66, 130, 32)       0         \n",
            "_________________________________________________________________\n",
            "conv2d_7 (Conv2D)            (None, 64, 128, 32)       9248      \n",
            "_________________________________________________________________\n",
            "max_pooling2d_3 (MaxPooling2 (None, 32, 64, 32)        0         \n",
            "_________________________________________________________________\n",
            "zero_padding2d_8 (ZeroPaddin (None, 34, 66, 32)        0         \n",
            "_________________________________________________________________\n",
            "conv2d_8 (Conv2D)            (None, 32, 64, 64)        18496     \n",
            "_________________________________________________________________\n",
            "zero_padding2d_9 (ZeroPaddin (None, 34, 66, 64)        0         \n",
            "_________________________________________________________________\n",
            "conv2d_9 (Conv2D)            (None, 32, 64, 64)        36928     \n",
            "_________________________________________________________________\n",
            "max_pooling2d_4 (MaxPooling2 (None, 16, 32, 64)        0         \n",
            "_________________________________________________________________\n",
            "dropout_3 (Dropout)          (None, 16, 32, 64)        0         \n",
            "_________________________________________________________________\n",
            "zero_padding2d_10 (ZeroPaddi (None, 18, 34, 64)        0         \n",
            "_________________________________________________________________\n",
            "conv2d_10 (Conv2D)           (None, 16, 32, 128)       73856     \n",
            "_________________________________________________________________\n",
            "zero_padding2d_11 (ZeroPaddi (None, 18, 34, 128)       0         \n",
            "_________________________________________________________________\n",
            "conv2d_11 (Conv2D)           (None, 16, 32, 128)       147584    \n",
            "_________________________________________________________________\n",
            "max_pooling2d_5 (MaxPooling2 (None, 8, 16, 128)        0         \n",
            "_________________________________________________________________\n",
            "dropout_4 (Dropout)          (None, 8, 16, 128)        0         \n",
            "_________________________________________________________________\n",
            "zero_padding2d_12 (ZeroPaddi (None, 10, 18, 128)       0         \n",
            "_________________________________________________________________\n",
            "conv2d_12 (Conv2D)           (None, 8, 16, 256)        295168    \n",
            "_________________________________________________________________\n",
            "zero_padding2d_13 (ZeroPaddi (None, 10, 18, 256)       0         \n",
            "_________________________________________________________________\n",
            "conv2d_13 (Conv2D)           (None, 8, 16, 256)        590080    \n",
            "_________________________________________________________________\n",
            "max_pooling2d_6 (MaxPooling2 (None, 4, 8, 256)         0         \n",
            "_________________________________________________________________\n",
            "dropout_5 (Dropout)          (None, 4, 8, 256)         0         \n",
            "_________________________________________________________________\n",
            "flatten_1 (Flatten)          (None, 8192)              0         \n",
            "_________________________________________________________________\n",
            "dense_2 (Dense)              (None, 512)               4194816   \n",
            "_________________________________________________________________\n",
            "dropout_6 (Dropout)          (None, 512)               0         \n",
            "_________________________________________________________________\n",
            "dense_3 (Dense)              (None, 9)                 4617      \n",
            "=================================================================\n",
            "Total params: 5,371,113\n",
            "Trainable params: 5,371,113\n",
            "Non-trainable params: 0\n",
            "_________________________________________________________________\n"
          ],
          "name": "stdout"
        }
      ]
    },
    {
      "cell_type": "code",
      "metadata": {
        "colab": {
          "base_uri": "https://localhost:8080/",
          "height": 0
        },
        "id": "wR7lstwqnBCq",
        "outputId": "f686947a-13e5-4699-aafd-276374dc11de"
      },
      "source": [
        "history = model2.fit(X_train, y_train, batch_size=100, epochs=20, validation_split = 0.33)\n",
        "\n",
        "print('Finished Training')\n",
        "\n",
        "predictions2 = np.argmax(model2.predict(X_test), axis=1)"
      ],
      "execution_count": 8,
      "outputs": [
        {
          "output_type": "stream",
          "text": [
            "Epoch 1/20\n",
            "  1/402 [..............................] - ETA: 0s - loss: 8.9604 - accuracy: 0.0600WARNING:tensorflow:Callbacks method `on_train_batch_end` is slow compared to the batch time (batch time: 0.0172s vs `on_train_batch_end` time: 0.0271s). Check your callbacks.\n",
            "402/402 [==============================] - 21s 52ms/step - loss: 2.2614 - accuracy: 0.1102 - val_loss: 2.1982 - val_accuracy: 0.1107\n",
            "Epoch 2/20\n",
            "402/402 [==============================] - 20s 50ms/step - loss: 2.1975 - accuracy: 0.1115 - val_loss: 2.1974 - val_accuracy: 0.1108\n",
            "Epoch 3/20\n",
            "402/402 [==============================] - 20s 50ms/step - loss: 2.1975 - accuracy: 0.1105 - val_loss: 2.1974 - val_accuracy: 0.1108\n",
            "Epoch 4/20\n",
            "402/402 [==============================] - 20s 50ms/step - loss: 2.1974 - accuracy: 0.1114 - val_loss: 2.1974 - val_accuracy: 0.1103\n",
            "Epoch 5/20\n",
            "402/402 [==============================] - 20s 50ms/step - loss: 2.1977 - accuracy: 0.1098 - val_loss: 2.1973 - val_accuracy: 0.1103\n",
            "Epoch 6/20\n",
            "402/402 [==============================] - 20s 50ms/step - loss: 2.1972 - accuracy: 0.1152 - val_loss: 2.1846 - val_accuracy: 0.1449\n",
            "Epoch 7/20\n",
            "402/402 [==============================] - 20s 50ms/step - loss: 1.9058 - accuracy: 0.2304 - val_loss: 1.5947 - val_accuracy: 0.3409\n",
            "Epoch 8/20\n",
            "402/402 [==============================] - 20s 50ms/step - loss: 1.6229 - accuracy: 0.3236 - val_loss: 1.4831 - val_accuracy: 0.3727\n",
            "Epoch 9/20\n",
            "402/402 [==============================] - 20s 50ms/step - loss: 1.5148 - accuracy: 0.3677 - val_loss: 1.4439 - val_accuracy: 0.4169\n",
            "Epoch 10/20\n",
            "402/402 [==============================] - 20s 50ms/step - loss: 1.4414 - accuracy: 0.4006 - val_loss: 1.2919 - val_accuracy: 0.4825\n",
            "Epoch 11/20\n",
            "402/402 [==============================] - 20s 50ms/step - loss: 1.3761 - accuracy: 0.4373 - val_loss: 1.2198 - val_accuracy: 0.5556\n",
            "Epoch 12/20\n",
            "402/402 [==============================] - 20s 50ms/step - loss: 1.3285 - accuracy: 0.4632 - val_loss: 1.2060 - val_accuracy: 0.5572\n",
            "Epoch 13/20\n",
            "402/402 [==============================] - 20s 50ms/step - loss: 1.2848 - accuracy: 0.4880 - val_loss: 1.1419 - val_accuracy: 0.6088\n",
            "Epoch 14/20\n",
            "402/402 [==============================] - 20s 50ms/step - loss: 1.2372 - accuracy: 0.5112 - val_loss: 1.1415 - val_accuracy: 0.6254\n",
            "Epoch 15/20\n",
            "402/402 [==============================] - 20s 50ms/step - loss: 1.2093 - accuracy: 0.5295 - val_loss: 1.0904 - val_accuracy: 0.6516\n",
            "Epoch 16/20\n",
            "402/402 [==============================] - 20s 50ms/step - loss: 1.1594 - accuracy: 0.5557 - val_loss: 0.9576 - val_accuracy: 0.7073\n",
            "Epoch 17/20\n",
            "402/402 [==============================] - 20s 50ms/step - loss: 1.0885 - accuracy: 0.6038 - val_loss: 0.8445 - val_accuracy: 0.7637\n",
            "Epoch 18/20\n",
            "402/402 [==============================] - 20s 50ms/step - loss: 0.9967 - accuracy: 0.6608 - val_loss: 0.7534 - val_accuracy: 0.7885\n",
            "Epoch 19/20\n",
            "402/402 [==============================] - 20s 50ms/step - loss: 0.8974 - accuracy: 0.7073 - val_loss: 0.6877 - val_accuracy: 0.8080\n",
            "Epoch 20/20\n",
            "402/402 [==============================] - 20s 50ms/step - loss: 0.8128 - accuracy: 0.7464 - val_loss: 0.6236 - val_accuracy: 0.8270\n",
            "Finished Training\n"
          ],
          "name": "stdout"
        }
      ]
    },
    {
      "cell_type": "markdown",
      "metadata": {
        "id": "OEVuQtTFPkrM"
      },
      "source": [
        "# 10 Layers & dropreate =0.3 plus earlystopping"
      ]
    },
    {
      "cell_type": "code",
      "metadata": {
        "colab": {
          "base_uri": "https://localhost:8080/"
        },
        "id": "K08ZwxO4ro2U",
        "outputId": "a3ec36d2-7347-4a2c-de1f-434836b49c9a"
      },
      "source": [
        "model3 = Sequential([\n",
        "                        ZeroPadding2D((1,1),input_shape=(64,128,1)),\n",
        "                        Conv2D(32, kernel_size=(3, 3), activation='relu'),\n",
        "                        ZeroPadding2D((1,1)),\n",
        "                        Conv2D(32, kernel_size=(3, 3), activation='relu'),\n",
        "                        MaxPooling2D(pool_size=(2, 2)),\n",
        "\n",
        "                        ZeroPadding2D((1,1)),\n",
        "                        Conv2D(64, kernel_size=(3, 3), activation='relu'),\n",
        "                        ZeroPadding2D((1,1)),\n",
        "                        Conv2D(64, kernel_size=(3, 3), activation='relu'),\n",
        "                        MaxPooling2D(pool_size=(2, 2)),\n",
        "                        Dropout(0.3),\n",
        "\n",
        "                        ZeroPadding2D((1,1)),\n",
        "                        Conv2D(128, kernel_size=(3, 3), activation='relu'),\n",
        "                        ZeroPadding2D((1,1)),\n",
        "                        Conv2D(128, kernel_size=(3, 3), activation='relu'),\n",
        "                        MaxPooling2D(pool_size=(2, 2)),\n",
        "                        Dropout(0.3),\n",
        "                     \n",
        "                        ZeroPadding2D((1,1)),\n",
        "                        Conv2D(256, kernel_size=(3, 3), activation='relu'),\n",
        "                        ZeroPadding2D((1,1)),\n",
        "                        Conv2D(256, kernel_size=(3, 3), activation='relu'),\n",
        "                        MaxPooling2D(pool_size=(2, 2)),\n",
        "                        Dropout(0.3),\n",
        "\n",
        "                        Flatten(),\n",
        "                        Dense(512, activation='relu'),\n",
        "                        Dropout(0.3),\n",
        "                        Dense(9, activation='softmax'),\n",
        "\n",
        "])\n",
        "\n",
        "model3.compile(loss='categorical_crossentropy', optimizer='adam', metrics=['accuracy'])\n",
        "\n",
        "model3.summary()"
      ],
      "execution_count": null,
      "outputs": [
        {
          "output_type": "stream",
          "text": [
            "Model: \"sequential\"\n",
            "_________________________________________________________________\n",
            "Layer (type)                 Output Shape              Param #   \n",
            "=================================================================\n",
            "zero_padding2d (ZeroPadding2 (None, 66, 130, 1)        0         \n",
            "_________________________________________________________________\n",
            "conv2d (Conv2D)              (None, 64, 128, 32)       320       \n",
            "_________________________________________________________________\n",
            "zero_padding2d_1 (ZeroPaddin (None, 66, 130, 32)       0         \n",
            "_________________________________________________________________\n",
            "conv2d_1 (Conv2D)            (None, 64, 128, 32)       9248      \n",
            "_________________________________________________________________\n",
            "max_pooling2d (MaxPooling2D) (None, 32, 64, 32)        0         \n",
            "_________________________________________________________________\n",
            "zero_padding2d_2 (ZeroPaddin (None, 34, 66, 32)        0         \n",
            "_________________________________________________________________\n",
            "conv2d_2 (Conv2D)            (None, 32, 64, 64)        18496     \n",
            "_________________________________________________________________\n",
            "zero_padding2d_3 (ZeroPaddin (None, 34, 66, 64)        0         \n",
            "_________________________________________________________________\n",
            "conv2d_3 (Conv2D)            (None, 32, 64, 64)        36928     \n",
            "_________________________________________________________________\n",
            "max_pooling2d_1 (MaxPooling2 (None, 16, 32, 64)        0         \n",
            "_________________________________________________________________\n",
            "dropout (Dropout)            (None, 16, 32, 64)        0         \n",
            "_________________________________________________________________\n",
            "zero_padding2d_4 (ZeroPaddin (None, 18, 34, 64)        0         \n",
            "_________________________________________________________________\n",
            "conv2d_4 (Conv2D)            (None, 16, 32, 128)       73856     \n",
            "_________________________________________________________________\n",
            "zero_padding2d_5 (ZeroPaddin (None, 18, 34, 128)       0         \n",
            "_________________________________________________________________\n",
            "conv2d_5 (Conv2D)            (None, 16, 32, 128)       147584    \n",
            "_________________________________________________________________\n",
            "max_pooling2d_2 (MaxPooling2 (None, 8, 16, 128)        0         \n",
            "_________________________________________________________________\n",
            "dropout_1 (Dropout)          (None, 8, 16, 128)        0         \n",
            "_________________________________________________________________\n",
            "zero_padding2d_6 (ZeroPaddin (None, 10, 18, 128)       0         \n",
            "_________________________________________________________________\n",
            "conv2d_6 (Conv2D)            (None, 8, 16, 256)        295168    \n",
            "_________________________________________________________________\n",
            "zero_padding2d_7 (ZeroPaddin (None, 10, 18, 256)       0         \n",
            "_________________________________________________________________\n",
            "conv2d_7 (Conv2D)            (None, 8, 16, 256)        590080    \n",
            "_________________________________________________________________\n",
            "max_pooling2d_3 (MaxPooling2 (None, 4, 8, 256)         0         \n",
            "_________________________________________________________________\n",
            "dropout_2 (Dropout)          (None, 4, 8, 256)         0         \n",
            "_________________________________________________________________\n",
            "flatten (Flatten)            (None, 8192)              0         \n",
            "_________________________________________________________________\n",
            "dense (Dense)                (None, 512)               4194816   \n",
            "_________________________________________________________________\n",
            "dropout_3 (Dropout)          (None, 512)               0         \n",
            "_________________________________________________________________\n",
            "dense_1 (Dense)              (None, 9)                 4617      \n",
            "=================================================================\n",
            "Total params: 5,371,113\n",
            "Trainable params: 5,371,113\n",
            "Non-trainable params: 0\n",
            "_________________________________________________________________\n"
          ],
          "name": "stdout"
        }
      ]
    },
    {
      "cell_type": "code",
      "metadata": {
        "colab": {
          "base_uri": "https://localhost:8080/"
        },
        "id": "jgT2rb_EsOvP",
        "outputId": "0ae3acdd-450c-49c7-bc55-07202bbe9b4a"
      },
      "source": [
        "\n",
        "\n",
        "from tensorflow.keras.callbacks import EarlyStopping\n",
        "\n",
        "callback = EarlyStopping(monitor='val_loss', patience=3, mode=\"auto\",)\n",
        "history = model3.fit(X_train, y_train, batch_size=100, epochs=20, validation_split = 0.33, callbacks=[callback])\n",
        "\n",
        "\n",
        "print('Finished Training')\n",
        "\n",
        "predictions3 = np.argmax(model3.predict(X_test), axis=1)"
      ],
      "execution_count": null,
      "outputs": [
        {
          "output_type": "stream",
          "text": [
            "Epoch 1/20\n",
            "402/402 [==============================] - 12s 30ms/step - loss: 2.2378 - accuracy: 0.1086 - val_loss: 2.1973 - val_accuracy: 0.1098\n",
            "Epoch 2/20\n",
            "402/402 [==============================] - 11s 28ms/step - loss: 2.1974 - accuracy: 0.1102 - val_loss: 2.1973 - val_accuracy: 0.1103\n",
            "Epoch 3/20\n",
            "402/402 [==============================] - 11s 28ms/step - loss: 2.1976 - accuracy: 0.1060 - val_loss: 2.1974 - val_accuracy: 0.1096\n",
            "Epoch 4/20\n",
            "402/402 [==============================] - 11s 28ms/step - loss: 2.1974 - accuracy: 0.1115 - val_loss: 2.1936 - val_accuracy: 0.1270\n",
            "Epoch 5/20\n",
            "402/402 [==============================] - 11s 28ms/step - loss: 1.9575 - accuracy: 0.2110 - val_loss: 1.6084 - val_accuracy: 0.3523\n",
            "Epoch 6/20\n",
            "402/402 [==============================] - 11s 28ms/step - loss: 1.5455 - accuracy: 0.3537 - val_loss: 1.4326 - val_accuracy: 0.4346\n",
            "Epoch 7/20\n",
            "402/402 [==============================] - 11s 28ms/step - loss: 1.3949 - accuracy: 0.4284 - val_loss: 1.2754 - val_accuracy: 0.5141\n",
            "Epoch 8/20\n",
            "402/402 [==============================] - 11s 28ms/step - loss: 1.2790 - accuracy: 0.4920 - val_loss: 1.1883 - val_accuracy: 0.5770\n",
            "Epoch 9/20\n",
            "402/402 [==============================] - 11s 28ms/step - loss: 1.1815 - accuracy: 0.5487 - val_loss: 1.0321 - val_accuracy: 0.6540\n",
            "Epoch 10/20\n",
            "402/402 [==============================] - 12s 29ms/step - loss: 1.0448 - accuracy: 0.6250 - val_loss: 0.8261 - val_accuracy: 0.7495\n",
            "Epoch 11/20\n",
            "402/402 [==============================] - 11s 28ms/step - loss: 0.8733 - accuracy: 0.7136 - val_loss: 0.6636 - val_accuracy: 0.7996\n",
            "Epoch 12/20\n",
            "402/402 [==============================] - 11s 28ms/step - loss: 0.7316 - accuracy: 0.7704 - val_loss: 0.5807 - val_accuracy: 0.8284\n",
            "Epoch 13/20\n",
            "402/402 [==============================] - 11s 28ms/step - loss: 0.6525 - accuracy: 0.7993 - val_loss: 0.5450 - val_accuracy: 0.8377\n",
            "Epoch 14/20\n",
            "402/402 [==============================] - 11s 28ms/step - loss: 0.5935 - accuracy: 0.8175 - val_loss: 0.5036 - val_accuracy: 0.8488\n",
            "Epoch 15/20\n",
            "402/402 [==============================] - 11s 28ms/step - loss: 0.5626 - accuracy: 0.8256 - val_loss: 0.4871 - val_accuracy: 0.8545\n",
            "Epoch 16/20\n",
            "402/402 [==============================] - 11s 28ms/step - loss: 0.5382 - accuracy: 0.8324 - val_loss: 0.4602 - val_accuracy: 0.8603\n",
            "Epoch 17/20\n",
            "402/402 [==============================] - 11s 28ms/step - loss: 0.5083 - accuracy: 0.8410 - val_loss: 0.4361 - val_accuracy: 0.8686\n",
            "Epoch 18/20\n",
            "402/402 [==============================] - 11s 28ms/step - loss: 0.4667 - accuracy: 0.8542 - val_loss: 0.4525 - val_accuracy: 0.8595\n",
            "Epoch 19/20\n",
            "402/402 [==============================] - 11s 28ms/step - loss: 0.4556 - accuracy: 0.8565 - val_loss: 0.4378 - val_accuracy: 0.8716\n",
            "Epoch 20/20\n",
            "402/402 [==============================] - 11s 28ms/step - loss: 0.4357 - accuracy: 0.8632 - val_loss: 0.4435 - val_accuracy: 0.8701\n",
            "Finished Training\n"
          ],
          "name": "stdout"
        }
      ]
    },
    {
      "cell_type": "markdown",
      "metadata": {
        "id": "q7NaRA99PMyC"
      },
      "source": [
        "# Simple model"
      ]
    },
    {
      "cell_type": "code",
      "metadata": {
        "colab": {
          "base_uri": "https://localhost:8080/",
          "height": 0
        },
        "id": "WCkm4ukwONIb",
        "outputId": "c9654deb-7d9b-4029-be13-c860e37f2ec1"
      },
      "source": [
        "# model.add(Conv2D(10, kernel_size=(3, 3), activation='relu'))     \n",
        "#     model.add(MaxPooling2D(pool_size=(2, 2)))                       \n",
        "#     model.add(Conv2D(20, kernel_size=(3, 3), activation='relu'))\n",
        "#     model.add(MaxPooling2D(pool_size=(2, 2)))\n",
        "#     model.add(Flatten())\n",
        "#     model.add(Dense(512, activation='relu'))\n",
        "#     model.add(Dense(9, activation='softmax'))\n",
        "\n",
        "\n",
        "simpleModel = Sequential([\n",
        "                        ZeroPadding2D((1,1),input_shape=(64,128,1)),\n",
        "                        Conv2D(10, kernel_size=(3, 3), activation='relu'),\n",
        "                        MaxPooling2D(pool_size=(2, 2)),\n",
        "                        Conv2D(20, kernel_size=(3, 3), activation='relu'),\n",
        "                        MaxPooling2D(pool_size=(2, 2)),\n",
        "\n",
        "\n",
        "                        Flatten(),\n",
        "                        Dense(512, activation='relu'),\n",
        "                        Dense(9, activation='softmax'),\n",
        "\n",
        "])\n",
        "\n",
        "simpleModel.compile(loss='categorical_crossentropy', optimizer='adam', metrics=['accuracy'])\n",
        "\n",
        "simpleModel.summary()"
      ],
      "execution_count": 9,
      "outputs": [
        {
          "output_type": "stream",
          "text": [
            "Model: \"sequential_2\"\n",
            "_________________________________________________________________\n",
            "Layer (type)                 Output Shape              Param #   \n",
            "=================================================================\n",
            "zero_padding2d_14 (ZeroPaddi (None, 66, 130, 1)        0         \n",
            "_________________________________________________________________\n",
            "conv2d_14 (Conv2D)           (None, 64, 128, 10)       100       \n",
            "_________________________________________________________________\n",
            "max_pooling2d_7 (MaxPooling2 (None, 32, 64, 10)        0         \n",
            "_________________________________________________________________\n",
            "conv2d_15 (Conv2D)           (None, 30, 62, 20)        1820      \n",
            "_________________________________________________________________\n",
            "max_pooling2d_8 (MaxPooling2 (None, 15, 31, 20)        0         \n",
            "_________________________________________________________________\n",
            "flatten_2 (Flatten)          (None, 9300)              0         \n",
            "_________________________________________________________________\n",
            "dense_4 (Dense)              (None, 512)               4762112   \n",
            "_________________________________________________________________\n",
            "dense_5 (Dense)              (None, 9)                 4617      \n",
            "=================================================================\n",
            "Total params: 4,768,649\n",
            "Trainable params: 4,768,649\n",
            "Non-trainable params: 0\n",
            "_________________________________________________________________\n"
          ],
          "name": "stdout"
        }
      ]
    },
    {
      "cell_type": "code",
      "metadata": {
        "colab": {
          "base_uri": "https://localhost:8080/",
          "height": 0
        },
        "id": "06uy8yzLOygO",
        "outputId": "389c05b1-58d3-4ba0-9be9-4c1980830e55"
      },
      "source": [
        "history_Simple = simpleModel.fit(X_train, y_train, batch_size=100, epochs=20, validation_split = 0.33)\n",
        "\n",
        "print('Finished Training')\n",
        "\n",
        "predictions_Simple = np.argmax(simpleModel.predict(X_test), axis=1)"
      ],
      "execution_count": 10,
      "outputs": [
        {
          "output_type": "stream",
          "text": [
            "Epoch 1/20\n",
            "402/402 [==============================] - 4s 9ms/step - loss: 3.2128 - accuracy: 0.1123 - val_loss: 2.1999 - val_accuracy: 0.1137\n",
            "Epoch 2/20\n",
            "402/402 [==============================] - 4s 9ms/step - loss: 2.1638 - accuracy: 0.1482 - val_loss: 2.1341 - val_accuracy: 0.1592\n",
            "Epoch 3/20\n",
            "402/402 [==============================] - 4s 9ms/step - loss: 1.9770 - accuracy: 0.2282 - val_loss: 1.9798 - val_accuracy: 0.2193\n",
            "Epoch 4/20\n",
            "402/402 [==============================] - 3s 9ms/step - loss: 1.7288 - accuracy: 0.3254 - val_loss: 1.9539 - val_accuracy: 0.2321\n",
            "Epoch 5/20\n",
            "402/402 [==============================] - 4s 9ms/step - loss: 1.4465 - accuracy: 0.4442 - val_loss: 2.0829 - val_accuracy: 0.2304\n",
            "Epoch 6/20\n",
            "402/402 [==============================] - 3s 9ms/step - loss: 1.0618 - accuracy: 0.6045 - val_loss: 2.3744 - val_accuracy: 0.2155\n",
            "Epoch 7/20\n",
            "402/402 [==============================] - 3s 9ms/step - loss: 0.6807 - accuracy: 0.7546 - val_loss: 2.9181 - val_accuracy: 0.2063\n",
            "Epoch 8/20\n",
            "402/402 [==============================] - 3s 9ms/step - loss: 0.3909 - accuracy: 0.8633 - val_loss: 3.6503 - val_accuracy: 0.2061\n",
            "Epoch 9/20\n",
            "402/402 [==============================] - 3s 9ms/step - loss: 0.2307 - accuracy: 0.9217 - val_loss: 4.1755 - val_accuracy: 0.2019\n",
            "Epoch 10/20\n",
            "402/402 [==============================] - 3s 9ms/step - loss: 0.1740 - accuracy: 0.9411 - val_loss: 4.7761 - val_accuracy: 0.1943\n",
            "Epoch 11/20\n",
            "402/402 [==============================] - 3s 9ms/step - loss: 0.1354 - accuracy: 0.9563 - val_loss: 4.9847 - val_accuracy: 0.1880\n",
            "Epoch 12/20\n",
            "402/402 [==============================] - 3s 9ms/step - loss: 0.1218 - accuracy: 0.9594 - val_loss: 5.5933 - val_accuracy: 0.1984\n",
            "Epoch 13/20\n",
            "402/402 [==============================] - 3s 9ms/step - loss: 0.1227 - accuracy: 0.9603 - val_loss: 5.7256 - val_accuracy: 0.1977\n",
            "Epoch 14/20\n",
            "402/402 [==============================] - 3s 9ms/step - loss: 0.1029 - accuracy: 0.9663 - val_loss: 6.3371 - val_accuracy: 0.1941\n",
            "Epoch 15/20\n",
            "402/402 [==============================] - 3s 9ms/step - loss: 0.0694 - accuracy: 0.9779 - val_loss: 6.4187 - val_accuracy: 0.2008\n",
            "Epoch 16/20\n",
            "402/402 [==============================] - 3s 9ms/step - loss: 0.0645 - accuracy: 0.9790 - val_loss: 7.0685 - val_accuracy: 0.1980\n",
            "Epoch 17/20\n",
            "402/402 [==============================] - 4s 9ms/step - loss: 0.0692 - accuracy: 0.9785 - val_loss: 6.9828 - val_accuracy: 0.1903\n",
            "Epoch 18/20\n",
            "402/402 [==============================] - 3s 9ms/step - loss: 0.0824 - accuracy: 0.9738 - val_loss: 7.4466 - val_accuracy: 0.1967\n",
            "Epoch 19/20\n",
            "402/402 [==============================] - 3s 9ms/step - loss: 0.0810 - accuracy: 0.9738 - val_loss: 7.7318 - val_accuracy: 0.1923\n",
            "Epoch 20/20\n",
            "402/402 [==============================] - 4s 9ms/step - loss: 0.0640 - accuracy: 0.9799 - val_loss: 7.9717 - val_accuracy: 0.1902\n",
            "Finished Training\n"
          ],
          "name": "stdout"
        }
      ]
    },
    {
      "cell_type": "code",
      "metadata": {
        "id": "zYwLwJC50Znx"
      },
      "source": [
        "results = np.array(list(zip(np.arange(0,10000),predictions3+5)))\n",
        "results = pd.DataFrame(results, columns=['id', 'class'])\n",
        "results.to_csv('submit34.csv', index = False)"
      ],
      "execution_count": null,
      "outputs": []
    }
  ]
}